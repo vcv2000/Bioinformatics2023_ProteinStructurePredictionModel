{
  "nbformat": 4,
  "nbformat_minor": 0,
  "metadata": {
    "colab": {
      "provenance": []
    },
    "kernelspec": {
      "name": "python3",
      "display_name": "Python 3"
    },
    "language_info": {
      "name": "python"
    }
  },
  "cells": [
    {
      "cell_type": "code",
      "execution_count": null,
      "metadata": {
        "id": "ORm6V3QXdvHg"
      },
      "outputs": [],
      "source": [
        "#Importing the required libraries\n",
        "import os\n",
        "import pandas as pd\n",
        "import numpy as np\n",
        "from tensorflow.keras.models import Sequential\n",
        "from tensorflow.keras.layers import Embedding, Bidirectional, LSTM, TimeDistributed, Dense\n",
        "from sklearn.model_selection import train_test_split\n",
        "from tensorflow.keras.preprocessing.text import Tokenizer\n",
        "from tensorflow.keras.preprocessing.sequence import pad_sequences\n",
        "from tensorflow.keras.utils import to_categorical\n",
        "import tensorflow as tf\n",
        "from keras import backend as K\n",
        "import matplotlib.pyplot as plt\n",
        "from google.colab import files"
      ]
    },
    {
      "cell_type": "code",
      "source": [
        "# Load datasets and Read the Excel file into a DataFrame\n",
        "uploaded = files.upload()\n",
        "file_name = next(iter(uploaded))\n",
        "\n",
        "df = pd.read_excel(pd.ExcelFile(file_name))\n",
        "ss_all = df.query('len.between(100, 300) & ~has_nonstd_aa')\n",
        "sequences, sst3_labels = df['seq'].tolist(), df['sst3'].tolist()"
      ],
      "metadata": {
        "id": "AgWGTXlALY_0"
      },
      "execution_count": null,
      "outputs": []
    },
    {
      "cell_type": "code",
      "source": [
        "# Train-validation-test split\n",
        "train_seqs, test_seqs, train_sst3, test_sst3 = train_test_split(sequences, sst3_labels, test_size=0.2, random_state=42)\n",
        "train_seqs, valid_seqs, train_sst3, valid_sst3 = train_test_split(train_seqs, train_sst3, test_size=0.25, random_state=42)"
      ],
      "metadata": {
        "id": "OMeVRB2RLcxG"
      },
      "execution_count": null,
      "outputs": []
    },
    {
      "cell_type": "code",
      "source": [
        "# Tokenization and Padding\n",
        "encoder = Tokenizer()\n",
        "encoder.fit_on_texts(train_seqs)\n",
        "decoder = Tokenizer(char_level=True)\n",
        "decoder.fit_on_texts(train_sst3)"
      ],
      "metadata": {
        "id": "IInk6cSnLxm1"
      },
      "execution_count": null,
      "outputs": []
    },
    {
      "cell_type": "code",
      "source": [
        "# Define early stopping callback\n",
        "early_stopping = EarlyStopping(monitor='val_accuracy', patience=3, restore_best_weights=True)"
      ],
      "metadata": {
        "id": "DrFtbts2L15V"
      },
      "execution_count": null,
      "outputs": []
    },
    {
      "cell_type": "code",
      "source": [
        "# Train-validation-test split for sequences and labels\n",
        "X_train, y_train = preprocess_sequences(train_seqs, train_sst3, encoder, decoder)\n",
        "X_valid, y_valid = preprocess_sequences(valid_seqs, valid_sst3, encoder, decoder)"
      ],
      "metadata": {
        "id": "UM2wbqGhL5pU"
      },
      "execution_count": null,
      "outputs": []
    },
    {
      "cell_type": "code",
      "source": [
        "# Build and Compile Model\n",
        "model = Sequential([\n",
        "    Embedding(input_dim=len(encoder.word_index) + 1, output_dim=128, input_length=X_train.shape[1]),\n",
        "    Bidirectional(LSTM(units=64, return_sequences=True, recurrent_dropout=0.1)),\n",
        "    TimeDistributed(Dense(len(decoder.word_index) + 1, activation='softmax'))\n",
        "])\n",
        "model.compile(optimizer=\"adam\", loss=\"categorical_crossentropy\", metrics=[\"accuracy\", q3_acc])"
      ],
      "metadata": {
        "id": "sQfiSEhlL8vk"
      },
      "execution_count": null,
      "outputs": []
    },
    {
      "cell_type": "code",
      "source": [
        "# Train the model\n",
        "history = model.fit(X_train, y_train, batch_size=128, epochs=10, validation_data=(X_valid, y_valid), callbacks=[early_stopping], verbose=1)"
      ],
      "metadata": {
        "id": "ggZhOpeDMFMr"
      },
      "execution_count": null,
      "outputs": []
    },
    {
      "cell_type": "code",
      "source": [
        "#Plotting the data into graphs\n",
        "# Plot Training and Validation Loss\n",
        "plt.figure(figsize=(8, 5))\n",
        "plt.plot(history.history['loss'], label='Training Loss')\n",
        "plt.plot(history.history['val_loss'], label='Validation Loss')\n",
        "plt.title('Training and Validation Loss')\n",
        "plt.xlabel('Epochs')\n",
        "plt.ylabel('Loss')\n",
        "plt.legend()\n",
        "plt.show()\n",
        "\n",
        "# Plot Training and Validation Accuracy\n",
        "plt.figure(figsize=(8, 5))\n",
        "plt.plot(history.history['accuracy'], label='Training Accuracy')\n",
        "plt.plot(history.history['val_accuracy'], label='Validation Accuracy')\n",
        "plt.title('Training and Validation Accuracy')\n",
        "plt.xlabel('Epochs')\n",
        "plt.ylabel('Accuracy')\n",
        "plt.legend()\n",
        "plt.show()\n",
        "\n",
        "# Plot Training and Validation Q3 Accuracy\n",
        "plt.figure(figsize=(8, 5))\n",
        "plt.plot(history.history['q3_acc'], label='Training Q3 Accuracy')\n",
        "plt.plot(history.history['val_q3_acc'], label='Validation Q3 Accuracy')\n",
        "plt.title('Training and Validation Q3 Accuracy')\n",
        "plt.xlabel('Epochs')\n",
        "plt.ylabel('Q3 Accuracy')\n",
        "plt.legend()\n",
        "plt.show()"
      ],
      "metadata": {
        "id": "Sr7e5OfPMMdu"
      },
      "execution_count": null,
      "outputs": []
    },
    {
      "cell_type": "code",
      "source": [
        "#Evaluating the Test Results\n",
        "# Tokenization and Padding for Test Set\n",
        "X_test, y_test = preprocess_sequences(test_seqs, test_sst3, encoder, decoder)\n",
        "\n",
        "# Evaluate the model on the test set\n",
        "test_results = model.evaluate(X_test, y_test, verbose=1)\n",
        "\n",
        "# Display the evaluation results\n",
        "print(\"Test Loss:\", test_results[0])\n",
        "print(\"Test Accuracy:\", test_results[1])\n",
        "print(\"Test Q3 Accuracy:\", test_results[2])"
      ],
      "metadata": {
        "id": "oONNwVlpMYht"
      },
      "execution_count": null,
      "outputs": []
    }
  ]
}